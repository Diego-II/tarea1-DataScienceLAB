{
 "cells": [
  {
   "cell_type": "markdown",
   "metadata": {},
   "source": [
    "# **Tarea 1:** EDA y modelos bayesianos\n",
    "## **Grupo 5** \n",
    "## **Integrantes:** \n",
    " * Diego Irarrazaval\n",
    " * Pablo Paredes\n",
    " * Tomas Rojas"
   ]
  },
  {
   "cell_type": "markdown",
   "metadata": {},
   "source": [
    "## Pregunta 1:  Carga y limpieza de datos."
   ]
  },
  {
   "cell_type": "code",
   "execution_count": null,
   "metadata": {
    "ExecuteTime": {
     "end_time": "2020-05-13T04:41:53.900116Z",
     "start_time": "2020-05-13T04:41:46.685621Z"
    }
   },
   "outputs": [],
   "source": [
    "import pandas as pd\n",
    "import glob as glob"
   ]
  },
  {
   "cell_type": "markdown",
   "metadata": {},
   "source": [
    "`files_raw`, `files_estadisticas` y `files_asignacion` son listas que contienen las direcciones donde se encuentran los .csv a leer. "
   ]
  },
  {
   "cell_type": "code",
   "execution_count": null,
   "metadata": {
    "ExecuteTime": {
     "end_time": "2020-05-13T04:42:49.147073Z",
     "start_time": "2020-05-13T04:42:49.081832Z"
    }
   },
   "outputs": [],
   "source": [
    "files_raw = glob.glob('data/raw/**/*.csv', recursive = True)\n",
    "files_estadisticas = glob.glob('data/estadisticas_upz/*.csv')\n",
    "files_asignacion = glob.glob('data/asignacion_upz/*.csv')"
   ]
  },
  {
   "cell_type": "code",
   "execution_count": null,
   "metadata": {
    "ExecuteTime": {
     "end_time": "2020-05-13T04:42:53.110776Z",
     "start_time": "2020-05-13T04:42:53.105762Z"
    }
   },
   "outputs": [],
   "source": [
    "print(files_raw)\n",
    "print(files_estadisticas)\n",
    "print(files_asignacion)"
   ]
  },
  {
   "cell_type": "code",
   "execution_count": null,
   "metadata": {
    "ExecuteTime": {
     "end_time": "2020-05-13T04:49:42.868971Z",
     "start_time": "2020-05-13T04:49:41.596865Z"
    }
   },
   "outputs": [],
   "source": [
    "#\n",
    "data_raw = ([pd.read_csv(dir) for dir in files_raw])"
   ]
  },
  {
   "cell_type": "code",
   "execution_count": null,
   "metadata": {
    "ExecuteTime": {
     "end_time": "2020-05-13T05:21:36.761365Z",
     "start_time": "2020-05-13T05:21:36.755381Z"
    },
    "scrolled": true
   },
   "outputs": [],
   "source": [
    "data_raw[0]['url'][0]"
   ]
  },
  {
   "cell_type": "code",
   "execution_count": null,
   "metadata": {
    "ExecuteTime": {
     "end_time": "2020-05-13T04:50:13.062112Z",
     "start_time": "2020-05-13T04:50:13.054134Z"
    }
   },
   "outputs": [],
   "source": [
    "column_names = ['property_type|rent_type|location', 'price', 'n_rooms', 'n_bath', \n",
    "                'surface', 'details', 'url', 'metrocuadrado_index']\n",
    "df = pd.DataFrame(columns = column_names)"
   ]
  },
  {
   "cell_type": "code",
   "execution_count": null,
   "metadata": {
    "ExecuteTime": {
     "end_time": "2020-05-13T05:36:43.351895Z",
     "start_time": "2020-05-13T05:36:42.632501Z"
    }
   },
   "outputs": [],
   "source": [
    "# Acá se juntan todos los datos en el DataFrame df_aux\n",
    "\n",
    "data_raw_aux = []\n",
    "\n",
    "for i in [0,2,4,6,8]:\n",
    "    \n",
    "    df1 = pd.read_csv(files_raw[i])\n",
    "    df2 = pd.read_csv(files_raw[i+1])\n",
    "    df_merge = pd.merge(df1, df2, how = 'outer', on = 'url', indicator='furnished')\n",
    "    \n",
    "    \n",
    "    \n",
    "    df_merge.drop(['property_type|rent_type|location_y', 'price_y', 'n_rooms_y', 'n_bath_y', 'surface_y', 'details_y',\n",
    "                   'metrocuadrado_index_y'], axis = 1, inplace = True)\n",
    "    df_merge.columns = ['property_type|rent_type|location', 'price', 'n_rooms', 'n_bath', 'surface', 'details', 'url',\n",
    "                        'metrocuadrado_index', 'furnished']\n",
    "    data_raw_aux.append(df_merge)\n",
    "\n",
    "df_aux = pd.concat([df for df in data_raw_aux])\n",
    "df_aux.drop_duplicates(inplace = True)"
   ]
  },
  {
   "cell_type": "code",
   "execution_count": null,
   "metadata": {
    "ExecuteTime": {
     "end_time": "2020-05-13T05:38:40.259892Z",
     "start_time": "2020-05-13T05:38:40.252911Z"
    }
   },
   "outputs": [],
   "source": [
    "# Se reportan si hay datos de archivos furnished que no estén en all \n",
    "\n",
    "print('Hay '+ str(len(df_aux[df_aux['furnished'] == 'right_only'])) + ' datos de archivos furnished que no estan en all')"
   ]
  },
  {
   "cell_type": "code",
   "execution_count": null,
   "metadata": {},
   "outputs": [],
   "source": []
  },
  {
   "cell_type": "code",
   "execution_count": null,
   "metadata": {},
   "outputs": [],
   "source": [
    "# Limpieza de columnas 'price' y 'surface'\n",
    "\n"
   ]
  },
  {
   "cell_type": "code",
   "execution_count": null,
   "metadata": {
    "ExecuteTime": {
     "end_time": "2020-05-13T05:41:41.293347Z",
     "start_time": "2020-05-13T05:41:41.285793Z"
    }
   },
   "outputs": [],
   "source": [
    "df_aux['price'].replace('$','', inplace = True)\n",
    "df_aux['price']"
   ]
  }
 ],
 "metadata": {
  "kernelspec": {
   "display_name": "Python 3",
   "language": "python",
   "name": "python3"
  },
  "language_info": {
   "codemirror_mode": {
    "name": "ipython",
    "version": 3
   },
   "file_extension": ".py",
   "mimetype": "text/x-python",
   "name": "python",
   "nbconvert_exporter": "python",
   "pygments_lexer": "ipython3",
   "version": "3.7.4"
  },
  "toc": {
   "base_numbering": 1,
   "nav_menu": {},
   "number_sections": true,
   "sideBar": true,
   "skip_h1_title": false,
   "title_cell": "Table of Contents",
   "title_sidebar": "Contents",
   "toc_cell": false,
   "toc_position": {},
   "toc_section_display": true,
   "toc_window_display": false
  }
 },
 "nbformat": 4,
 "nbformat_minor": 4
}
