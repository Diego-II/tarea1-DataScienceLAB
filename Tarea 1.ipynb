{
 "cells": [
  {
   "cell_type": "markdown",
   "metadata": {},
   "source": [
    "# **Tarea 1:** EDA y modelos bayesianos\n",
    "## **Grupo 5** \n",
    "## **Integrantes:** \n",
    " * Diego Irarrazaval\n",
    " * Pablo Paredes\n",
    " * Tomas Rojas"
   ]
  },
  {
   "cell_type": "markdown",
   "metadata": {},
   "source": [
    "## Pregunta 1:  Carga y limpieza de datos."
   ]
  },
  {
   "cell_type": "code",
   "execution_count": 2,
   "metadata": {},
   "outputs": [],
   "source": [
    "import pandas as pd\n",
    "import glob as glob"
   ]
  },
  {
   "cell_type": "code",
   "execution_count": 40,
   "metadata": {},
   "outputs": [],
   "source": [
    "files_raw = glob.glob('data/raw/**/*.csv', recursive = True)\n",
    "files_estadisticas = glob.glob('data/estadisticas_upz/*.csv')"
   ]
  },
  {
   "cell_type": "code",
   "execution_count": 41,
   "metadata": {},
   "outputs": [
    {
     "name": "stdout",
     "output_type": "stream",
     "text": [
      "['data/raw\\\\w13\\\\metrocuadrado_all_w13.csv', 'data/raw\\\\w13\\\\metrocuadrado_furnished_w13.csv', 'data/raw\\\\w14\\\\metrocuadrado_all_w14.csv', 'data/raw\\\\w14\\\\metrocuadrado_furnished_w14.csv', 'data/raw\\\\w15\\\\metrocuadrado_all_w15.csv', 'data/raw\\\\w15\\\\metrocuadrado_furnished_w15.csv', 'data/raw\\\\w16\\\\metrocuadrado_all_w16.csv', 'data/raw\\\\w16\\\\metrocuadrado_furnished_w16.csv', 'data/raw\\\\w17\\\\metrocuadrado_all_w17.csv', 'data/raw\\\\w17\\\\metrocuadrado_furnished_w17.csv']\n",
      "['data/estadisticas_upz\\\\estadisticas_poblacion.csv', 'data/estadisticas_upz\\\\indice_inseguridad.csv', 'data/estadisticas_upz\\\\porcentaje_areas_verdes.csv']\n"
     ]
    }
   ],
   "source": [
    "print(files_raw)\n",
    "print(files_estadisticas)"
   ]
  },
  {
   "cell_type": "code",
   "execution_count": null,
   "metadata": {},
   "outputs": [],
   "source": []
  }
 ],
 "metadata": {
  "kernelspec": {
   "display_name": "Python 3",
   "language": "python",
   "name": "python3"
  },
  "language_info": {
   "codemirror_mode": {
    "name": "ipython",
    "version": 3
   },
   "file_extension": ".py",
   "mimetype": "text/x-python",
   "name": "python",
   "nbconvert_exporter": "python",
   "pygments_lexer": "ipython3",
   "version": "3.7.3"
  }
 },
 "nbformat": 4,
 "nbformat_minor": 4
}
