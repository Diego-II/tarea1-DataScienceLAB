{
 "cells": [
  {
   "cell_type": "markdown",
   "metadata": {},
   "source": [
    "# **Tarea 1:** EDA y modelos bayesianos\n",
    "## **Grupo 5** \n",
    "## **Integrantes:** \n",
    " * Diego Irarrazaval\n",
    " * Pablo Paredes\n",
    " * Tomas Rojas"
   ]
  },
  {
   "cell_type": "markdown",
   "metadata": {},
   "source": [
    "## Pregunta 1:  Carga y limpieza de datos.\n",
    "### P1.1"
   ]
  },
  {
   "cell_type": "code",
   "execution_count": 1,
   "metadata": {
    "ExecuteTime": {
     "end_time": "2020-05-14T04:18:05.812793Z",
     "start_time": "2020-05-14T04:18:04.987869Z"
    }
   },
   "outputs": [],
   "source": [
    "import pandas as pd\n",
    "import glob as glob\n",
    "import numpy as np"
   ]
  },
  {
   "cell_type": "markdown",
   "metadata": {},
   "source": [
    "`files_raw`, `files_estadisticas` y `files_asignacion` son listas que contienen las direcciones donde se encuentran los .csv a leer. "
   ]
  },
  {
   "cell_type": "code",
   "execution_count": 2,
   "metadata": {
    "ExecuteTime": {
     "end_time": "2020-05-14T04:18:06.304004Z",
     "start_time": "2020-05-14T04:18:05.814738Z"
    }
   },
   "outputs": [],
   "source": [
    "files_raw = glob.glob('data/raw/**/*.csv', recursive = True)\n",
    "files_estadisticas = glob.glob('data/estadisticas_upz/*.csv')\n",
    "files_asignacion = glob.glob('data/asignacion_upz/*.csv')\n",
    "\n",
    "data_raw = ([pd.read_csv(dir) for dir in files_raw])"
   ]
  },
  {
   "cell_type": "markdown",
   "metadata": {},
   "source": [
    "### Creación del DataFrame y reporte de archivos furnished"
   ]
  },
  {
   "cell_type": "code",
   "execution_count": 3,
   "metadata": {
    "ExecuteTime": {
     "end_time": "2020-05-14T04:18:08.214800Z",
     "start_time": "2020-05-14T04:18:06.306002Z"
    }
   },
   "outputs": [
    {
     "name": "stdout",
     "output_type": "stream",
     "text": [
      "Hay 4 datos de archivos furnished que no estan en all\n"
     ]
    }
   ],
   "source": [
    "'''\n",
    "Creamos un data frame 'furnished', el cual tendrá dos columnas\n",
    "1) 'url' para hacer el merge finalmente y obtener el data frame requerido\n",
    "2) 'furnished' para contar cuantos datos están en archivos furnished y no en archivos all\n",
    "'''\n",
    "\n",
    "data_all = []\n",
    "data_fur = []\n",
    "\n",
    "for i in [0,2,4,6,8]:\n",
    "    \n",
    "    df1 = pd.read_csv(files_raw[i])\n",
    "    df2 = pd.read_csv(files_raw[i+1])\n",
    "    \n",
    "    data_all.append(df1)\n",
    "    data_fur.append(df2)\n",
    "    \n",
    "df_all = pd.concat(data_all)\n",
    "df_fur = pd.concat(data_fur)\n",
    "    \n",
    "f1 = pd.merge(df_all, df_fur, how='outer', on='url', indicator='furnished')\n",
    "furnished = f1[['url', 'furnished']].copy()\n",
    "\n",
    "furnished.drop_duplicates(inplace = True)\n",
    "furnished.reset_index(drop=True, inplace=True)\n",
    "\n",
    "# Se reportan si hay datos de archivos furnished que no estén en all \n",
    "\n",
    "print('Hay '+ str(len(furnished[furnished['furnished'] == 'right_only'])) + ' datos de archivos furnished que no estan en all')"
   ]
  },
  {
   "cell_type": "code",
   "execution_count": 4,
   "metadata": {
    "ExecuteTime": {
     "end_time": "2020-05-14T04:18:08.413806Z",
     "start_time": "2020-05-14T04:18:08.216770Z"
    }
   },
   "outputs": [],
   "source": [
    "'''\n",
    "Creamos el data frame 'data'\n",
    "'''\n",
    "\n",
    "df_aux = pd.concat([df_all, df_fur], ignore_index=True)\n",
    "\n",
    "data = pd.merge(df_aux, furnished, how='inner', on='url')\n",
    "data.drop_duplicates(inplace=True)\n",
    "data.reset_index(drop=True, inplace=True)\n",
    "\n",
    "# Se elimina la columna 'furnished' y se quitan los duplicados\n",
    "\n",
    "data.drop('furnished', axis=1, inplace=True)\n",
    "data.drop_duplicates(inplace=True)\n",
    "data.reset_index(drop=True, inplace=True)"
   ]
  },
  {
   "cell_type": "markdown",
   "metadata": {
    "ExecuteTime": {
     "end_time": "2020-05-13T20:25:45.708974Z",
     "start_time": "2020-05-13T20:25:45.704988Z"
    }
   },
   "source": [
    "### P1.2 Limpieza de Columnas "
   ]
  },
  {
   "cell_type": "code",
   "execution_count": 5,
   "metadata": {
    "ExecuteTime": {
     "end_time": "2020-05-14T04:18:09.679075Z",
     "start_time": "2020-05-14T04:18:08.415794Z"
    }
   },
   "outputs": [],
   "source": [
    "'''\n",
    "Limpieza de columnas 'price', 'surface', 'n_rooms', 'n_bath'\n",
    "'''\n",
    "\n",
    "# Columna de precio ('price') tipo float\n",
    "\n",
    "data.price = data['price'].str.replace('.', '')\n",
    "data.price = data['price'].str.strip('$')\n",
    "data.price = data['price'].map(float)\n",
    "\n",
    "# Columna de área ('surface') tipo float\n",
    "\n",
    "data.surface = data['surface'].replace('m2', '', regex=True)\n",
    "data.surface = data['surface'].map(float)"
   ]
  },
  {
   "cell_type": "code",
   "execution_count": 6,
   "metadata": {
    "ExecuteTime": {
     "end_time": "2020-05-14T04:18:09.817704Z",
     "start_time": "2020-05-14T04:18:09.680847Z"
    }
   },
   "outputs": [
    {
     "data": {
      "text/plain": [
       "array(['3', 3.0, '5', '4', '2', '1', nan, 5.0, 4.0, '5+', 2.0, 1.0],\n",
       "      dtype=object)"
      ]
     },
     "execution_count": 6,
     "metadata": {},
     "output_type": "execute_result"
    }
   ],
   "source": [
    "# Notamos que en la columna de dormitorios ('n_rooms') existe la opción '5+'\n",
    "# por lo que dejaremos esta columna como categórica\n",
    "\n",
    "data.n_rooms.unique()"
   ]
  },
  {
   "cell_type": "code",
   "execution_count": 7,
   "metadata": {
    "ExecuteTime": {
     "end_time": "2020-05-14T04:18:10.016283Z",
     "start_time": "2020-05-14T04:18:09.819690Z"
    }
   },
   "outputs": [],
   "source": [
    "# Se crea un diccionario para pasar los datos numéricos de 'n_rooms' a string\n",
    "# y se efectúa el mapeo\n",
    "\n",
    "dic = {1.0: '1', 2.0:'2', 3.0: '3', 4.0:'4', 5.0:'5'}\n",
    "\n",
    "data.n_rooms = data['n_rooms'].replace(dic)"
   ]
  },
  {
   "cell_type": "code",
   "execution_count": 8,
   "metadata": {
    "ExecuteTime": {
     "end_time": "2020-05-14T04:18:10.180746Z",
     "start_time": "2020-05-14T04:18:10.023026Z"
    }
   },
   "outputs": [],
   "source": [
    "# Como habían datos que solo se diferenciaban en la cantidad de dormitorios\n",
    "# por el tipo de dato que eran (float o int), puede haberse creado duplicados. Se borran nuevamente los duplicados\n",
    "# de data\n",
    "\n",
    "data.drop_duplicates(inplace=True)\n",
    "data.reset_index(drop=True, inplace=True)"
   ]
  },
  {
   "cell_type": "code",
   "execution_count": 9,
   "metadata": {
    "ExecuteTime": {
     "end_time": "2020-05-14T04:18:10.263328Z",
     "start_time": "2020-05-14T04:18:10.182707Z"
    }
   },
   "outputs": [
    {
     "data": {
      "text/plain": [
       "array(['2', 2.0, '1', '4', '3', nan, 3.0, '5', 4.0, 5.0, '5+', 1.0],\n",
       "      dtype=object)"
      ]
     },
     "execution_count": 9,
     "metadata": {},
     "output_type": "execute_result"
    }
   ],
   "source": [
    "# Se hace lo mismo con la columnna de cantidad de baños ('n_bath')\n",
    "\n",
    "data.n_bath.unique()"
   ]
  },
  {
   "cell_type": "code",
   "execution_count": 10,
   "metadata": {
    "ExecuteTime": {
     "end_time": "2020-05-14T04:18:10.469269Z",
     "start_time": "2020-05-14T04:18:10.265343Z"
    }
   },
   "outputs": [],
   "source": [
    "dic = {1.0: '1', 2.0:'2', 3.0: '3', 4.0:'4', 5.0:'5'}\n",
    "\n",
    "data.n_bath.replace(dic)\n",
    "data.drop_duplicates(inplace=True)\n",
    "data.reset_index(drop=True, inplace=True)"
   ]
  },
  {
   "cell_type": "code",
   "execution_count": 11,
   "metadata": {
    "ExecuteTime": {
     "end_time": "2020-05-14T04:18:10.544855Z",
     "start_time": "2020-05-14T04:18:10.471210Z"
    }
   },
   "outputs": [],
   "source": [
    "'''\n",
    "Separación de columna property_tipe|rent_type|location en tres columnas\n",
    "con los nombres respectivos\n",
    "\n",
    "'''\n",
    "\n",
    "# Renombramos la columna\n",
    "\n",
    "data.columns = ['PTL', 'price', 'n_rooms', 'n_bath', 'surface', 'details', 'url', 'metrocuadrado_index']"
   ]
  },
  {
   "cell_type": "code",
   "execution_count": 12,
   "metadata": {
    "ExecuteTime": {
     "end_time": "2020-05-14T04:18:10.732619Z",
     "start_time": "2020-05-14T04:18:10.546562Z"
    }
   },
   "outputs": [
    {
     "name": "stdout",
     "output_type": "stream",
     "text": [
      "['Casa' 'Apartamento']\n",
      "['Arriendo' 'Venta Y Arriendo']\n"
     ]
    }
   ],
   "source": [
    "# Creamos las columnas y las llenamos\n",
    "\n",
    "col = data['PTL'].str.split(', ', expand=True)\n",
    "\n",
    "meta_col = col[0].str.split(' en ', expand=True)\n",
    "\n",
    "# Nos aseguramos que hayan solo las siguientes opciones:\n",
    "# -> 'Casa', 'Apartamento' para property_type\n",
    "# -> 'Arriendo', 'Venta Y Arriendo' para rent_type\n",
    "\n",
    "print(meta_col[0].unique())\n",
    "print(meta_col[1].unique())"
   ]
  },
  {
   "cell_type": "code",
   "execution_count": 13,
   "metadata": {
    "ExecuteTime": {
     "end_time": "2020-05-14T04:18:10.811432Z",
     "start_time": "2020-05-14T04:18:10.734619Z"
    }
   },
   "outputs": [],
   "source": [
    "# Formamos las nuevas columnas 'property_type', 'rent_type', 'location'\n",
    "\n",
    "data['property_type'] = meta_col[0] \n",
    "data['rent_type'] = meta_col[1]\n",
    "data['location'] = col[1]\n",
    "\n",
    "# y retiramos la columna PTL\n",
    "\n",
    "data.drop('PTL', axis=1, inplace=True)"
   ]
  },
  {
   "cell_type": "code",
   "execution_count": 14,
   "metadata": {
    "ExecuteTime": {
     "end_time": "2020-05-14T04:18:10.953442Z",
     "start_time": "2020-05-14T04:18:10.813089Z"
    }
   },
   "outputs": [],
   "source": [
    "# Finalmente quitamos la ciudad de 'location'\n",
    "\n",
    "loc = col[1].str.split(' Bogotá', expand=True)\n",
    "data.location = loc[0]"
   ]
  },
  {
   "cell_type": "markdown",
   "metadata": {
    "ExecuteTime": {
     "end_time": "2020-05-14T00:56:17.669646Z",
     "start_time": "2020-05-14T00:56:17.643679Z"
    }
   },
   "source": [
    "### P1.3 Precio por metro cuadrado y Cantidad de garages"
   ]
  },
  {
   "cell_type": "code",
   "execution_count": 15,
   "metadata": {
    "ExecuteTime": {
     "end_time": "2020-05-14T04:18:11.389470Z",
     "start_time": "2020-05-14T04:18:10.955051Z"
    }
   },
   "outputs": [],
   "source": [
    "'''\n",
    "Agregamos una columna que represente el precio por metro cuadrado 'price_per_m2'\n",
    "\n",
    "'''\n",
    "\n",
    "data['price_per_m2'] = np.where(data['surface'] <= 0, float('nan'), data['price']/data['surface'])\n"
   ]
  },
  {
   "cell_type": "code",
   "execution_count": 16,
   "metadata": {
    "ExecuteTime": {
     "end_time": "2020-05-14T04:18:11.659586Z",
     "start_time": "2020-05-14T04:18:11.392310Z"
    }
   },
   "outputs": [
    {
     "name": "stderr",
     "output_type": "stream",
     "text": [
      "C:\\Users\\Diego\\Anaconda3\\lib\\site-packages\\pandas\\core\\indexing.py:671: SettingWithCopyWarning: \n",
      "A value is trying to be set on a copy of a slice from a DataFrame\n",
      "\n",
      "See the caveats in the documentation: https://pandas.pydata.org/pandas-docs/stable/user_guide/indexing.html#returning-a-view-versus-a-copy\n",
      "  self._setitem_with_indexer(indexer, value)\n"
     ]
    }
   ],
   "source": [
    "'''\n",
    "Obtenemos la cantidad de garajes y lo agregamos como columna también 'cant_garajes'\n",
    "\n",
    "'''\n",
    "\n",
    "garajes_list = data.url.str.split('-garajes', expand=True)\n",
    "garajes_num = garajes_list[0].str.rsplit('-', n=1, expand=True)\n",
    "\n",
    "# indices que tienen urls con info de la cantidad de garajes\n",
    "ind = garajes_list[1].index[garajes_list[1].isna() == False]\n",
    "\n",
    "# generación de nueva columna para después asignarla a la data\n",
    "garajes_list[2] = np.nan\n",
    "garajes_list[2].loc[ind] = garajes_num[1].loc[ind]\n",
    "\n",
    "# agregación de la cantidad de garajes a la data (nan si no hay info)\n",
    "data['cant_garajes'] = garajes_list[2]"
   ]
  },
  {
   "cell_type": "markdown",
   "metadata": {
    "ExecuteTime": {
     "end_time": "2020-05-14T02:22:05.234063Z",
     "start_time": "2020-05-14T02:22:05.206424Z"
    }
   },
   "source": [
    "### P1.4 Clasificación Tipo de Producto"
   ]
  },
  {
   "cell_type": "code",
   "execution_count": 17,
   "metadata": {
    "ExecuteTime": {
     "end_time": "2020-05-14T04:18:11.723221Z",
     "start_time": "2020-05-14T04:18:11.661866Z"
    }
   },
   "outputs": [
    {
     "data": {
      "text/plain": [
       "0        NaN\n",
       "1        1.0\n",
       "2        1.0\n",
       "3        1.0\n",
       "4        NaN\n",
       "        ... \n",
       "18386    6.0\n",
       "18387    1.0\n",
       "18388    6.0\n",
       "18389    7.0\n",
       "18390    8.0\n",
       "Name: clasif_prod_type, Length: 18391, dtype: category\n",
       "Categories (8, float64): [1.0, 2.0, 3.0, 4.0, 5.0, 6.0, 7.0, 8.0]"
      ]
     },
     "execution_count": 17,
     "metadata": {},
     "output_type": "execute_result"
    }
   ],
   "source": [
    "'''\n",
    "Creamos una nueva columna 'clasif_prod_type' donde se representará la clasificación\n",
    "de la vivienda con dígitos del 1 al 8 de acuerdo al enunciado\n",
    "\n",
    "'''\n",
    "\n",
    "data['clasif_prod_type'] = np.nan\n",
    "\n",
    "data.clasif_prod_type.loc[(data.property_type == 'Casa') & (data.surface >= 80) & (data.surface < 120)] = 1\n",
    "data.clasif_prod_type.loc[(data.property_type == 'Casa') & (data.surface >= 120) & (data.surface < 180)] = 2\n",
    "data.clasif_prod_type.loc[(data.property_type == 'Casa') & (data.surface >= 180) & (data.surface < 240)] = 3\n",
    "data.clasif_prod_type.loc[(data.property_type == 'Casa') & (data.surface >= 240) & (data.surface < 360)] = 4\n",
    "data.clasif_prod_type.loc[(data.property_type == 'Casa') & (data.surface >= 360) & (data.surface < 460)] = 5\n",
    "data.clasif_prod_type.loc[(data.property_type == 'Apartamento') & (data.surface >= 40) & (data.surface < 60)] = 6\n",
    "data.clasif_prod_type.loc[(data.property_type == 'Apartamento') & (data.surface >= 60) & (data.surface < 80)] = 7\n",
    "data.clasif_prod_type.loc[(data.property_type == 'Apartamento') & (data.surface >= 80) & (data.surface < 120)] = 8\n",
    "\n",
    "data['clasif_prod_type'].astype('category')"
   ]
  },
  {
   "cell_type": "markdown",
   "metadata": {
    "ExecuteTime": {
     "end_time": "2020-05-14T02:38:15.663253Z",
     "start_time": "2020-05-14T02:38:15.633563Z"
    }
   },
   "source": [
    "### P1.5 Obtención del código UPZ"
   ]
  },
  {
   "cell_type": "code",
   "execution_count": 18,
   "metadata": {
    "ExecuteTime": {
     "end_time": "2020-05-14T04:18:11.802744Z",
     "start_time": "2020-05-14T04:18:11.724221Z"
    }
   },
   "outputs": [],
   "source": [
    "'''\n",
    "Se carga el archivo y se guarda en un dataframe data_upz\n",
    "Luego, se realiza el merge para obtener el código para cada barrio\n",
    "\n",
    "'''\n",
    "\n",
    "# Se guarda la base de datos en un data frame\n",
    "data_upz = pd.read_csv(files_asignacion[0], usecols = ['UPlCodigo', 'pro_location', 'UPlArea'])\n",
    "\n",
    "# Se deja todo en minuscula para poder hacer el merge correctamente\n",
    "data_upz.pro_location = data_upz.pro_location.map(str).map(lambda s: s.lower())\n",
    "data.location = data.location.map(lambda s: s.lower())"
   ]
  },
  {
   "cell_type": "code",
   "execution_count": 19,
   "metadata": {
    "ExecuteTime": {
     "end_time": "2020-05-14T04:18:11.974600Z",
     "start_time": "2020-05-14T04:18:11.803742Z"
    }
   },
   "outputs": [
    {
     "name": "stdout",
     "output_type": "stream",
     "text": [
      "A 2059 datos no se les puede asignar código UPZ\n",
      "lo cual es 11.195693545756075% de los datos\n"
     ]
    }
   ],
   "source": [
    "#Se realiza el merge y se reportan cuantos datos no fueron asignados con código UPZ\n",
    "\n",
    "data_merge = pd.merge(data, data_upz, left_on='location', right_on='pro_location', how='left')\n",
    "\n",
    "print('A ' + str(sum(data_merge.UPlCodigo.isna())) + ' datos no se les puede asignar código UPZ')\n",
    "print('lo cual es ' + str(sum(data_merge.UPlCodigo.isna())/len(data)*100) + '% de los datos')"
   ]
  },
  {
   "cell_type": "code",
   "execution_count": 20,
   "metadata": {
    "ExecuteTime": {
     "end_time": "2020-05-14T04:18:12.044238Z",
     "start_time": "2020-05-14T04:18:11.976582Z"
    }
   },
   "outputs": [],
   "source": [
    "# Creamos la columna 'UPZ' en data y le asignamos el código UPZ obtenido en data_merge\n",
    "\n",
    "data['UPZ'] = data_merge['UPlCodigo']\n",
    "data['UPZ_area'] = data_merge['UPlArea']"
   ]
  },
  {
   "cell_type": "markdown",
   "metadata": {},
   "source": [
    "### P1.6 Fusión de datos con código UPZ"
   ]
  },
  {
   "cell_type": "code",
   "execution_count": 21,
   "metadata": {
    "ExecuteTime": {
     "end_time": "2020-05-14T04:18:12.167936Z",
     "start_time": "2020-05-14T04:18:12.049016Z"
    }
   },
   "outputs": [],
   "source": [
    "'''\n",
    "Se cargan los datos en distintos data frames, para después hacerles merge con data\n",
    "Luego, se crea una columna de densidad poblacional para cada código UTZ\n",
    "\n",
    "'''\n",
    "\n",
    "# Se cargan los datos en data frames respectivamente\n",
    "\n",
    "data_pobl = pd.read_csv(files_estadisticas[0])\n",
    "data_inseg = pd.read_csv(files_estadisticas[1])\n",
    "data_verde = pd.read_csv(files_estadisticas[2])"
   ]
  },
  {
   "cell_type": "code",
   "execution_count": 22,
   "metadata": {},
   "outputs": [
    {
     "data": {
      "text/html": [
       "<div>\n",
       "<style scoped>\n",
       "    .dataframe tbody tr th:only-of-type {\n",
       "        vertical-align: middle;\n",
       "    }\n",
       "\n",
       "    .dataframe tbody tr th {\n",
       "        vertical-align: top;\n",
       "    }\n",
       "\n",
       "    .dataframe thead th {\n",
       "        text-align: right;\n",
       "    }\n",
       "</style>\n",
       "<table border=\"1\" class=\"dataframe\">\n",
       "  <thead>\n",
       "    <tr style=\"text-align: right;\">\n",
       "      <th></th>\n",
       "      <th>Unnamed: 0</th>\n",
       "      <th>upz</th>\n",
       "      <th>nomupz</th>\n",
       "      <th>personas</th>\n",
       "      <th>trabajoinf_ninos_5_17_anos_perc</th>\n",
       "      <th>trabajoinfampliado_ninos_5_17_anos_perc</th>\n",
       "      <th>jovenes_14_24_anos_nini_perc</th>\n",
       "      <th>indice_envegecimiento</th>\n",
       "      <th>jefe_mujer_perc</th>\n",
       "      <th>adultos_mayores_pobres_perc</th>\n",
       "    </tr>\n",
       "  </thead>\n",
       "  <tbody>\n",
       "    <tr>\n",
       "      <th>0</th>\n",
       "      <td>0</td>\n",
       "      <td>UPZ11</td>\n",
       "      <td>SAN CRISTOBAL NORTE</td>\n",
       "      <td>68430</td>\n",
       "      <td>0.6</td>\n",
       "      <td>3.9</td>\n",
       "      <td>20.7</td>\n",
       "      <td>35.2</td>\n",
       "      <td>44.579934</td>\n",
       "      <td>17.931973</td>\n",
       "    </tr>\n",
       "    <tr>\n",
       "      <th>1</th>\n",
       "      <td>1</td>\n",
       "      <td>UPZ12</td>\n",
       "      <td>TOBERIN</td>\n",
       "      <td>50037</td>\n",
       "      <td>1.8</td>\n",
       "      <td>16.7</td>\n",
       "      <td>9.1</td>\n",
       "      <td>54.7</td>\n",
       "      <td>36.279630</td>\n",
       "      <td>5.420442</td>\n",
       "    </tr>\n",
       "    <tr>\n",
       "      <th>2</th>\n",
       "      <td>2</td>\n",
       "      <td>UPZ13</td>\n",
       "      <td>LOS CEDROS</td>\n",
       "      <td>102981</td>\n",
       "      <td>0.0</td>\n",
       "      <td>3.5</td>\n",
       "      <td>5.5</td>\n",
       "      <td>118.4</td>\n",
       "      <td>33.286852</td>\n",
       "      <td>3.250000</td>\n",
       "    </tr>\n",
       "    <tr>\n",
       "      <th>3</th>\n",
       "      <td>3</td>\n",
       "      <td>UPZ18</td>\n",
       "      <td>BRITALIA</td>\n",
       "      <td>69961</td>\n",
       "      <td>0.4</td>\n",
       "      <td>7.2</td>\n",
       "      <td>9.4</td>\n",
       "      <td>42.7</td>\n",
       "      <td>36.465059</td>\n",
       "      <td>9.439051</td>\n",
       "    </tr>\n",
       "    <tr>\n",
       "      <th>4</th>\n",
       "      <td>4</td>\n",
       "      <td>UPZ19</td>\n",
       "      <td>EL PRADO</td>\n",
       "      <td>121158</td>\n",
       "      <td>0.3</td>\n",
       "      <td>8.0</td>\n",
       "      <td>8.2</td>\n",
       "      <td>59.1</td>\n",
       "      <td>32.887202</td>\n",
       "      <td>5.406574</td>\n",
       "    </tr>\n",
       "  </tbody>\n",
       "</table>\n",
       "</div>"
      ],
      "text/plain": [
       "   Unnamed: 0    upz               nomupz  personas  \\\n",
       "0           0  UPZ11  SAN CRISTOBAL NORTE     68430   \n",
       "1           1  UPZ12              TOBERIN     50037   \n",
       "2           2  UPZ13           LOS CEDROS    102981   \n",
       "3           3  UPZ18             BRITALIA     69961   \n",
       "4           4  UPZ19             EL PRADO    121158   \n",
       "\n",
       "   trabajoinf_ninos_5_17_anos_perc  trabajoinfampliado_ninos_5_17_anos_perc  \\\n",
       "0                              0.6                                      3.9   \n",
       "1                              1.8                                     16.7   \n",
       "2                              0.0                                      3.5   \n",
       "3                              0.4                                      7.2   \n",
       "4                              0.3                                      8.0   \n",
       "\n",
       "   jovenes_14_24_anos_nini_perc  indice_envegecimiento  jefe_mujer_perc  \\\n",
       "0                          20.7                   35.2        44.579934   \n",
       "1                           9.1                   54.7        36.279630   \n",
       "2                           5.5                  118.4        33.286852   \n",
       "3                           9.4                   42.7        36.465059   \n",
       "4                           8.2                   59.1        32.887202   \n",
       "\n",
       "   adultos_mayores_pobres_perc  \n",
       "0                    17.931973  \n",
       "1                     5.420442  \n",
       "2                     3.250000  \n",
       "3                     9.439051  \n",
       "4                     5.406574  "
      ]
     },
     "execution_count": 22,
     "metadata": {},
     "output_type": "execute_result"
    }
   ],
   "source": [
    "data_pobl.head()"
   ]
  },
  {
   "cell_type": "code",
   "execution_count": null,
   "metadata": {
    "ExecuteTime": {
     "end_time": "2020-05-14T04:18:12.255661Z",
     "start_time": "2020-05-14T04:18:12.170692Z"
    }
   },
   "outputs": [],
   "source": [
    "# Se quitan las columnas innecesarias de data_pobl y data_inseg\n",
    "\n",
    "data_pobl.drop(['Unnamed: 0', 'nomupz'], axis=1, inplace=True)\n",
    "data_inseg.drop(['Unnamed: 0', 'UPlNombre2'], axis=1, inplace=True)"
   ]
  },
  {
   "cell_type": "code",
   "execution_count": null,
   "metadata": {
    "ExecuteTime": {
     "end_time": "2020-05-14T04:18:12.368191Z",
     "start_time": "2020-05-14T04:18:12.264637Z"
    }
   },
   "outputs": [],
   "source": [
    "# En data_verde se tiene que al código UPZ viene solo el número\n",
    "# por lo tanto, hay que transformarlo al formato UPZ + número para poder hacer el merge correctamente\n",
    "\n",
    "col = data_verde.cod_upz.map(int).map(str)\n",
    "col_upz = 'UPZ' + col\n",
    "\n",
    "data_verde.cod_upz = col_upz\n",
    "\n",
    "# Se eliminan las columnas innecesarias\n",
    "data_verde.drop(['Unnamed: 0', 'upz'], axis=1, inplace=True)"
   ]
  },
  {
   "cell_type": "code",
   "execution_count": null,
   "metadata": {
    "ExecuteTime": {
     "end_time": "2020-05-14T04:18:12.700467Z",
     "start_time": "2020-05-14T04:18:12.370166Z"
    },
    "scrolled": true
   },
   "outputs": [],
   "source": [
    "# Se realiza el merge, eliminando después las columnas innecesarias\n",
    "\n",
    "data = pd.merge(data, data_pobl, left_on='UPZ', right_on='upz', how='left')\n",
    "data.drop('upz', axis=1, inplace=True)\n",
    "data = pd.merge(data, data_inseg, left_on='UPZ', right_on='UPlCodigo', how='left')\n",
    "data.drop('UPlCodigo', axis=1, inplace=True)\n",
    "data = pd.merge(data, data_verde, left_on='UPZ', right_on='cod_upz', how='left')\n",
    "data.drop('cod_upz', axis=1, inplace=True)"
   ]
  },
  {
   "cell_type": "code",
   "execution_count": null,
   "metadata": {
    "ExecuteTime": {
     "end_time": "2020-05-14T04:21:21.225400Z",
     "start_time": "2020-05-14T04:21:21.220386Z"
    }
   },
   "outputs": [],
   "source": [
    "# Finalmente, se crea la columna de densidad de población para cada código UTZ ('UTZ_density')\n",
    "\n",
    "data['UTZ_density'] = data.personas/data.UPZ_area"
   ]
  },
  {
   "cell_type": "markdown",
   "metadata": {},
   "source": [
    "## P2. EDA\n",
    "### P2.1 Creacion de `estilo()`"
   ]
  },
  {
   "cell_type": "code",
   "execution_count": null,
   "metadata": {},
   "outputs": [],
   "source": [
    "import seaborn as sns\n",
    "import matplotlib.pyplot as plt\n",
    "#se crea diccionario que dará los valores a setear por defecto en el notebook\n",
    "custom = {\n",
    "    \"font.size\": 12,\n",
    "    \"axes.labelsize\": 18,\n",
    "    \"axes.titlesize\": 18,\n",
    "    \"xtick.labelsize\": 18,\n",
    "    \"ytick.labelsize\": 18,\n",
    "    \"legend.fontsize\": 20,\n",
    "    \"axes.linewidth\": 1.25,\n",
    "    \"grid.linewidth\": 1,\n",
    "    \"lines.linewidth\": 1.5,\n",
    "    \"lines.markersize\": 6,\n",
    "    \"patch.linewidth\": 1,\n",
    "    \"xtick.major.width\": 1.25,\n",
    "    \"ytick.major.width\": 1.25,\n",
    "    \"xtick.minor.width\": 1,\n",
    "    \"ytick.minor.width\": 1,\n",
    "    \"xtick.major.size\": 6,\n",
    "    \"ytick.major.size\": 6,\n",
    "    \"xtick.minor.size\": 4,\n",
    "    \"ytick.minor.size\": 4,\n",
    "    #'figure.figsize':(10.,8.),\n",
    "    \"figure.facecolor\": \"white\",\n",
    "    \"axes.labelcolor\": \".15\",\n",
    "    \"xtick.direction\": \"out\",\n",
    "    \"ytick.direction\": \"out\",\n",
    "    \"xtick.color\": \".15\",\n",
    "    \"ytick.color\": \".15\",\n",
    "    \"axes.axisbelow\": True,\n",
    "    \"grid.linestyle\": \"--\",\n",
    "    \"text.color\": \".1\",\n",
    "    \"patch.force_edgecolor\": True,\n",
    "    \"image.cmap\": \"RdBu_r\",\n",
    "    \"xtick.top\": False,\n",
    "    \"ytick.right\": False,\n",
    "         }\n",
    "\n",
    "#En las siguiente línea se implementa el diccionario personalizado como default para este notebook en seaborn\n",
    "sns.set(rc=custom)\n",
    "\n",
    "#se escoge una de las paletas que vienen con seaborn \n",
    "#(distinta a la que se usa por defecto) para el resto de notebook.\n",
    "#sns.set_palette('Set2')"
   ]
  },
  {
   "cell_type": "markdown",
   "metadata": {},
   "source": [
    "### P2.2 Perfilamiento: \n",
    "#### Naturaleza de las variables:\n",
    "Antes del perfilamiento se hara un estudio de la naturaleza de las variables y se observaran algunas columnas \n",
    "para mejor entendimiento de los datos. \n",
    "Adicionalmente a estos estudios, se realizo lo siguiente:\n",
    "```\n",
    "import pandas_profiling as pp\n",
    "pp.ProfileReport(data)\n",
    "\n",
    "profile = data.profile_report(title='Pandas Profiling Report')\n",
    "profile.to_file(output_file=\"output.html\")\n",
    "```\n",
    "No se incluye en el notebook por el tipo de output que genera y debido a que tiene un largo tiempo de ejecucion. \n",
    "\n",
    "En primer lugar, es importante conocer que tipos de datos tienen las variables (o columnas)."
   ]
  },
  {
   "cell_type": "code",
   "execution_count": null,
   "metadata": {},
   "outputs": [],
   "source": [
    "data.info()"
   ]
  },
  {
   "cell_type": "markdown",
   "metadata": {},
   "source": [
    "Para comprender mejor las variables, se visualizan las primeras 5 filas con `head()`:"
   ]
  },
  {
   "cell_type": "code",
   "execution_count": null,
   "metadata": {
    "scrolled": true
   },
   "outputs": [],
   "source": [
    "data.head()"
   ]
  },
  {
   "cell_type": "markdown",
   "metadata": {},
   "source": [
    "Para ayudar a entender las variables numericas:"
   ]
  },
  {
   "cell_type": "code",
   "execution_count": null,
   "metadata": {
    "scrolled": true
   },
   "outputs": [],
   "source": [
    "data.describe()"
   ]
  },
  {
   "cell_type": "markdown",
   "metadata": {},
   "source": [
    "#### Agrupacion por naturaleza:\n",
    "A continuacion, se grafican las variables para entender como se distribuyen. Para esto, separamos las variables categoricas de las numericas. Ademas, debido a que las variables `'details','url','UPZ','location'` tienen muchos valores distintos, se dejaran en una categoria aparte:"
   ]
  },
  {
   "cell_type": "code",
   "execution_count": null,
   "metadata": {},
   "outputs": [],
   "source": [
    "names = ['numeric', 'categorical']\n",
    "\n",
    "categorical = [col for col in data.columns if data[col].dtype == 'O']\n",
    "categorical += set(['clasif_prod_type'])\n",
    "\n",
    "others = ['details','url','UPZ','location']\n",
    "\n",
    "numeric = list(set(data.columns) - set(categorical))\n",
    "\n",
    "for col in others:\n",
    "    categorical.remove(col)\n",
    "\n",
    "mapping = [('numeric', col) for col in numeric]\n",
    "mapping.extend([('categorical', col) for col in categorical])\n",
    "mapping.extend([('others', col) for col in others])\n",
    "'''\n",
    "Se reordenan las columnas del dataframe para que coincidan con el esquema \n",
    "del multi indice\n",
    "'''\n",
    "\n",
    "data = data.reindex(columns = numeric + categorical + others)"
   ]
  },
  {
   "cell_type": "markdown",
   "metadata": {},
   "source": [
    "Antes de comenzar el perfilamiento, veamos la cantidad de valores unicos de las columnas pertenecientes a others:"
   ]
  },
  {
   "cell_type": "code",
   "execution_count": null,
   "metadata": {},
   "outputs": [],
   "source": [
    "for col in others:\n",
    "    n = len(data[col].unique())\n",
    "    msg = 'Cantidad de valores unicos de ' + col + ' = ' + str(n)\n",
    "    print(msg)"
   ]
  },
  {
   "cell_type": "markdown",
   "metadata": {},
   "source": [
    "Se observa que las 4 variables mencionadas anteriormente tienen cardinalidad mayor a 100 por lo que intentar graficarlo de la misma forma que se graficaran las variables categoricas no tiene tanto sentido. Lo que se propone para trabajar estas variables es realizar una codificacion para facilitar el analisis y agrupar donde sea necesario. Esto se realizara en particular para la variable `UPZ`. \n",
    "\n",
    "Las variables `details` y `url` se asumiran que no entregan informacion relevante (o nueva) sobre el precio por $metro^2$. Esto debido a que la informacion que estas columnas contiene se almacena en otras variables como el numero de banos o la cantidad de habitaciones, etc... "
   ]
  },
  {
   "cell_type": "markdown",
   "metadata": {},
   "source": [
    "#### Graficos de distribuciones univariadas de las variables:\n",
    "Para esto, se implementan dos funciones: `plot_numeric_vars` y `plot_categorical_vars`. "
   ]
  },
  {
   "cell_type": "code",
   "execution_count": null,
   "metadata": {},
   "outputs": [],
   "source": [
    "#Funcion para graficar Distribuciones univariadas de variables numericas:\n",
    "def plot_numeric_vars(df, columns, title):\n",
    "    '''\n",
    "    Creaciion de graficos de Distribuciones Univariadas, recibe \n",
    "    el dataframe, las columnas a graficar y el 'SuperTitulo'    \n",
    "    \n",
    "    Args:\n",
    "    ----------\n",
    "    columns: list\n",
    "        Lista con los nombres de las columnas de tipo numerico a graficar. \n",
    "        \n",
    "    title: String\n",
    "        Titulo\n",
    "        \n",
    "    Returns: None\n",
    "        Se muestran los graficos\n",
    "    \n",
    "    \n",
    "    Ejemplo de uso: \n",
    "    ------------\n",
    "    \n",
    "    Dado un DataFrame df:\n",
    "    col_a_graficar = ['col1','col2','col3']\n",
    "    \n",
    "    plot_uni_dist(df,col_a_graficar,'Grafico de variables 1, 2, 3')\n",
    "    \n",
    "    '''\n",
    "    sns.set(rc=custom)\n",
    "    nplots = len(columns)\n",
    "    ncols = 3\n",
    "    nrows = int(np.ceil(nplots/ncols))\n",
    "    \n",
    "    # Grilla de subplots\n",
    "    fig, ax = plt.subplots(nrows=nrows, ncols=ncols, figsize=[17, 17])\n",
    "\n",
    "    #Veamos si se deben remover plot:\n",
    "    if nplots - ncols*nrows > 0:\n",
    "        r = -(nplots - ncols*nrows)\n",
    "        list(map(lambda a : a.remove(), ax[-1,r:]))\n",
    "    \n",
    "    fig.tight_layout()\n",
    "    \n",
    "    #Ponemos el titulo:\n",
    "    fig.suptitle(title,\n",
    "             fontsize=20,\n",
    "             x=0.5,\n",
    "             y=1.05)\n",
    "    \n",
    "    #Se recorre cada axis, para cada columna del dataframe, se genera un grafico \n",
    "    #distinto en funcion del tipo de dato.\n",
    "    for axis, col in zip(ax.flatten(), columns):\n",
    "        try :\n",
    "            # Graficos para datos numericos\n",
    "            sns.distplot(df[(col)], ax=axis, rug=True)\n",
    "\n",
    "        except RuntimeError:\n",
    "            sns.distplot(df[(col)], ax=axis, rug=True, kde=False)\n",
    "\n",
    "        axis.set_xlabel(col, fontsize=15)\n",
    "\n",
    "    # Se ajusta el espaciado interno entre subplots\n",
    "    w, h = (.4, .4)\n",
    "    plt.subplots_adjust(wspace=w, hspace=h)\n",
    "    \n",
    "    "
   ]
  },
  {
   "cell_type": "code",
   "execution_count": null,
   "metadata": {},
   "outputs": [],
   "source": [
    "#Funcion para graficar Distribuciones univariadas de variables numericas:\n",
    "def plot_categorical_vars(df, columns, title, order = dict()):\n",
    "    '''\n",
    "    Creaciion de graficos de Distribuciones Univariadas recibe\n",
    "    el dataframe, las columnas a graficar y el 'SuperTitulo'    \n",
    "    \n",
    "    Args:\n",
    "    ----------\n",
    "    columns: list\n",
    "        Lista con los nombres de las columnas de tipo numerico a graficar. \n",
    "        \n",
    "    title: String\n",
    "        Titulo\n",
    "        \n",
    "    order: dict\n",
    "        Diccionario que contiene como llave el nombre de la columna que se desea ordenar \n",
    "        y como valor una lista con las categorias correspondientes a esa columna en el orden \n",
    "        deseado. \n",
    "        \n",
    "    Returns: None\n",
    "        Se muestran los graficos\n",
    "        \n",
    "        \n",
    "    Ejemplo de uso: \n",
    "    -------------\n",
    "    Dado un DataFrame df:\n",
    "    col_a_graficar = ['col1','col2','col3']\n",
    "    cat_order = {\n",
    "         'col1' = ['cat1','cat2','cat3', 'cat4']\n",
    "         'col2' = [i for i in range(1,11)]\n",
    "         'col3' = ['mujer', 'hombre', 'otro']\n",
    "    }\n",
    "    plot_uni_dist(df,col_a_graficar,'Grafico de variables categoricas', cat_order)\n",
    "    -----------------\n",
    "    \n",
    "    Cuando no se incluye un diccionario order, se ordena por defecto. \n",
    "    \n",
    "    \n",
    "    '''\n",
    "    sns.set(rc=custom)\n",
    "    nplots = len(columns)\n",
    "    ncols = 3\n",
    "    nrows = int(np.ceil(nplots/ncols))\n",
    "    \n",
    "    # Grilla de subplots\n",
    "    fig, ax = plt.subplots(nrows=nrows, ncols=ncols, figsize=[17, 17])\n",
    "\n",
    "    #Veamos si se deben remover plot:\n",
    "    if nplots - ncols*nrows > 0:\n",
    "        r = -(nplots - ncols*nrows)\n",
    "        list(map(lambda a : a.remove(), ax[-1,r:]))\n",
    "    \n",
    "    fig.tight_layout()\n",
    "    \n",
    "    #Ponemos el titulo:\n",
    "    fig.suptitle(title,\n",
    "             fontsize=20,\n",
    "             x=0.5,\n",
    "             y=1.05)\n",
    "    '''\n",
    "    Se recorre cada axis, para cada columna del dataframe, se genera un grafico \n",
    "    distinto en funcion del tipo de dato.\n",
    "\n",
    "    '''\n",
    "    for axis, col in zip(ax.flatten(), columns):    \n",
    "        # Graficos para datos tipos str\n",
    "        try:\n",
    "            sns.countplot(df[(col)], ax=axis, order = order[col])\n",
    "        except:\n",
    "            sns.countplot(df[(col)], ax=axis)\n",
    "        axis.set_axis_on()\n",
    "        axis.set_title(col, fontsize=15)\n",
    "  \n",
    "    \n",
    "    # Se ajusta el espaciado interno entre subplots\n",
    "    h, w = (.8, .8)\n",
    "    plt.subplots_adjust(wspace=w, hspace=h)"
   ]
  },
  {
   "cell_type": "code",
   "execution_count": null,
   "metadata": {},
   "outputs": [],
   "source": [
    "plot_numeric_vars(data,numeric,'Grafico variables numericas')"
   ]
  },
  {
   "cell_type": "markdown",
   "metadata": {},
   "source": [
    "En primer lugar, sobresale la distribucion de `metrocuadrado_index`. Es la unica que no contiene grandes concentraciones. A simple vista, se podria aproximar con una distribucion Normal. Por otro lado, las variables `price`, `surface`, `indice_inseguridad` y `price_per_m2` presentan grandes concentraciones en zonas especificas. \n",
    "\n",
    "Para profundizar el analisis, luego de estudiar las distribuciones de las variables categoricas se estudiaran los comportamientos bivariados: relaciones entre variables con _scatterPlot_ y _violinPlot_. \n",
    "\n",
    "A continuacion se muestran las distribuciones de las variables categoricas:"
   ]
  },
  {
   "cell_type": "code",
   "execution_count": null,
   "metadata": {
    "scrolled": false
   },
   "outputs": [],
   "source": [
    "plot_order = {'n_rooms': [ '1', '2', '3', '4', '5', '5+'],\n",
    "              'n_bath': [ '1', '2', '3', '4', '5', '5+'],\n",
    "              'property_type': ['Apartamento', 'Casa'],\n",
    "              'rent_type': ['Arriendo', 'Venta Y Arriendo'],\n",
    "              'cant_garajes': ['1', '2', '3', '4', '4+'],\n",
    "              'clasif_prod_type': [i for i in range(1,9)]\n",
    "             }\n",
    "plot_categorical_vars(data,categorical,'Grafico variables categoricas',plot_order)\n",
    "#len(categorical)"
   ]
  },
  {
   "cell_type": "markdown",
   "metadata": {
    "scrolled": false
   },
   "source": [
    "De las distribuciones de las variables categoricas, es posible inferir que la variable `rent_type` no aporta mucha informacion al momento de inferir el precio por metro$^2$. Esto debido a la alta concentracion en uno de los valores. Se puede inferir lo mismo de la variable `property_type`. "
   ]
  },
  {
   "cell_type": "markdown",
   "metadata": {},
   "source": [
    "Para comprender mejor que informacion me aportan las distintas columnas para resolver el problema, es bueno identificar la varible objetivo o _target_ y hacer graficas comparativas con esta.\n",
    "\n",
    "Como la variable _target_ es el precio cuadrado por metro cuadrado, a continuacion se implementa una funcion para Estudiar como se relacionan estas variables. Para las variables categoricas, el tipo de grafico utilizado es el boxplot o el grafico de violin. Para las variables numericas se utiliza el _scatter plot_. Dado el rango de precio por $metro^2$, es importante que exista la opcion de escalar el eje y."
   ]
  },
  {
   "cell_type": "code",
   "execution_count": null,
   "metadata": {},
   "outputs": [],
   "source": [
    "def plot_violin(target, col, order = None, scale = False ,df = data):\n",
    "    '''\n",
    "    Para variables categoricas v/s una variable target. Las variables categoricas deben ser de baja\n",
    "    cardinalidad, sino el grafico no es util.\n",
    "    Genera grafico de violin e histograma con distribucion de la variable a comparar.\n",
    "    Recibe el nombre de la variable objetivo y la variablecon la cual se desea comparar.\n",
    "    \n",
    "    Args:\n",
    "    --------\n",
    "    target: String\n",
    "        Nombre de la columna objetivo (eje y).\n",
    "    col: String \n",
    "        Nombre de la columna que representara el eje x.\n",
    "    scale: Bool\n",
    "        Si se quiere o no escalar el eje y. Util cuando el rango de esta variable es muy grande. \n",
    "        \n",
    "    Returns: None\n",
    "        Muestra en pantalla dos graficos: Violin plot (similar al boxplot) y el histograma de \n",
    "        la variable col.\n",
    "        \n",
    "    Ejemplo de uso:\n",
    "    --------------\n",
    "    plot_violin('price_per_m2','n_rooms')\n",
    "    '''\n",
    "    sns.set(rc=custom)\n",
    "    \n",
    "    # Sirve para fija el tamaño de lasetiquetas del plot\n",
    "    fontdict = {'fontsize':20}\n",
    "\n",
    "    # Estrucutra de figura y axes\n",
    "    fig, ax = plt.subplots(2,1,figsize=[12,13])\n",
    "\n",
    "    # violin plot --> equivalente a catplot(kind = 'violin')\n",
    "    if scale:\n",
    "        sns.violinplot(col,\n",
    "                    y=(target),\n",
    "                    data=df,\n",
    "                    kind='violin',\n",
    "                    ax=ax[0],\n",
    "                    order = order).set_yscale(\"log\")\n",
    "    else:\n",
    "        sns.violinplot(col,\n",
    "            y=(target),\n",
    "            data=df,\n",
    "            kind='violin',\n",
    "            ax=ax[0],\n",
    "            order = order)\n",
    "\n",
    "    sns.countplot(df[col], ax=ax[1], order = order)\n",
    "\n",
    "    ax[0].set_xlabel(col, fontdict)\n",
    "    ax[1].set_xlabel(col, fontdict)\n",
    "\n",
    "    ax[0].set_ylabel(target, fontdict)\n",
    "    title = 'Violin plot ' + col + ' v/s ' + target\n",
    "    ax[0].set_title(title, fontdict)\n",
    "    title_y = \"Frecuencias \" + col\n",
    "    ax[1].set_title(title_y, fontdict)\n",
    "    \n",
    "\n",
    "    h, w = (.3, .1)\n",
    "    plt.subplots_adjust(wspace=w, hspace=h)"
   ]
  },
  {
   "cell_type": "code",
   "execution_count": null,
   "metadata": {
    "scrolled": false
   },
   "outputs": [],
   "source": [
    "plot_violin('price_per_m2','n_rooms', order = plot_order['n_rooms'])"
   ]
  },
  {
   "cell_type": "markdown",
   "metadata": {},
   "source": [
    "Observemos que, debido al rango de la variable `price_per_m2`, es dificil obtener visualizaiones buenas de la relacion entre las variables. Por esto, se acotara en adelante el precio por m2 para que este en el rango [10000, 100000]. Esto solo se realizara para las visualizaciones y el perfilamiento. Por esto se creara un nuevo DataFrame `new_data`.  "
   ]
  },
  {
   "cell_type": "code",
   "execution_count": null,
   "metadata": {},
   "outputs": [],
   "source": [
    "new_data = data.copy()\n",
    "new_data = new_data[new_data.price_per_m2 < 100000]\n",
    "new_data = new_data[new_data.price_per_m2 > 10000]\n",
    "'''De esta forma tambien es posible eliminar outliers.'''\n",
    "\n",
    "print('Largo original del DataFrame: ',len(data))\n",
    "print('Largo del nuevo DataFrame: ', len(new_data))\n",
    "print('Maximo precio por m2 del nuevo DataFrame: ', max(new_data.price_per_m2))"
   ]
  },
  {
   "cell_type": "code",
   "execution_count": null,
   "metadata": {},
   "outputs": [],
   "source": [
    "#Grafico para cantidad de piezas vs precio por m2\n",
    "plot_violin('price_per_m2','n_rooms', order = plot_order['n_rooms'],scale = False ,df = new_data)"
   ]
  },
  {
   "cell_type": "code",
   "execution_count": null,
   "metadata": {},
   "outputs": [],
   "source": [
    "#Grafico para cantidad de piezas vs precio por m2\n",
    "plot_violin('price_per_m2','n_bath', df = new_data, order = plot_order['n_bath'])"
   ]
  },
  {
   "cell_type": "markdown",
   "metadata": {},
   "source": [
    "Se observa que, aunque muy leve, existe una relacion entre `price_per_m2` y `n_rooms`. En especial si se toman en cuenta solo los valores pertenecientes a [1, 2, 3, 4, 5] Por otro lado, es claro que las propiedades con 1 y 2 dormitorios son las que predominan.\n",
    "\n",
    "La variable `n_bath` tiene un comportamiento similar \n",
    "\n",
    "Observemos ahora como se relaciona la clasificacion de la propiedad v/s el precio por $metro^2$:"
   ]
  },
  {
   "cell_type": "code",
   "execution_count": null,
   "metadata": {
    "scrolled": false
   },
   "outputs": [],
   "source": [
    "plot_violin('price_per_m2','clasif_prod_type', df = new_data, order = plot_order['clasif_prod_type'])"
   ]
  },
  {
   "cell_type": "markdown",
   "metadata": {},
   "source": [
    "Como se observa en la primera imagen correspondiente a los graficos de violin, se observa una leve pendiente positiva: a medida que aumenta el numero correspondiente a la clasificacion del producto, aumenta (aunque levemente) el precio por $metro^2$. Esta variable sera de interes mas adelante porque ademas no presenta una concentracion en una clase particular tan alta como en el caso de `n_rooms`. "
   ]
  },
  {
   "cell_type": "code",
   "execution_count": null,
   "metadata": {},
   "outputs": [],
   "source": [
    "plot_violin('price_per_m2','property_type', df = new_data, order = plot_order['property_type'])"
   ]
  },
  {
   "cell_type": "markdown",
   "metadata": {},
   "source": [
    "Se observa que el precio por metro$^2$ de apartamento es algo mas caro que el de las casas. Por otro lado, hay una gran diferencia en la cantidad de casas y apartamentos."
   ]
  },
  {
   "cell_type": "code",
   "execution_count": null,
   "metadata": {},
   "outputs": [],
   "source": [
    "plot_violin('price_per_m2','cant_garajes', df= new_data, order = plot_order['cant_garajes'])"
   ]
  },
  {
   "cell_type": "markdown",
   "metadata": {},
   "source": [
    "La variable `cant_garajes` tiene un comportamiento muy similar a las variables `n_bath` y `n_rooms`, pero su distribucion esta mas concentrada en 1 y 2.\n",
    "\n",
    "A continuacion se procede a realizar los mismos graficos: variables numericas v/s precio por metro$^2$:"
   ]
  },
  {
   "cell_type": "code",
   "execution_count": null,
   "metadata": {},
   "outputs": [],
   "source": [
    "def plot_scatter(target, col, reg = True, scale = False, df = data):\n",
    "    '''\n",
    "    Para variables numericas v/s una variable target. \n",
    "    Genera el scatterplot e histograma con distribucion de la variable a comparar.\n",
    "    Recibe el nombre de la variable objetivo y la variablecon la cual se desea comparar.\n",
    "    \n",
    "    Args:\n",
    "    --------\n",
    "    target: String\n",
    "        Nombre de la columna objetivo (eje y).\n",
    "    col: String \n",
    "        Nombre de la columna que representara el eje x.\n",
    "    reg: Bool\n",
    "        Si se incluye o no una regresion lineal sobre los datos.\n",
    "    scale: Bool\n",
    "        Si se quiere o no escalar el eje y. Util cuando el rango de esta variable es muy grande. \n",
    "        \n",
    "    Returns: None\n",
    "        Muestra en pantalla dos graficos: Violin plot (similar al boxplot) y el histograma de \n",
    "        la variable col.\n",
    "        \n",
    "    Ejemplo de uso:\n",
    "    --------------\n",
    "    plot_scatter('price_per_m2','price')\n",
    "    '''\n",
    "    \n",
    "    sns.set(rc=custom)\n",
    "    \n",
    "    # Sirve para fija el tamaño de lasetiquetas del plot\n",
    "    fontdict = {'fontsize':20}\n",
    "\n",
    "    # Estrucutra de figura y axes\n",
    "    fig, ax = plt.subplots(2,1,figsize=[10,10])\n",
    "\n",
    "    # violin plot --> equivalente a catplot(kind = 'violin')\n",
    "    if scale:\n",
    "        if reg:\n",
    "            sns.regplot(x = col,\n",
    "                        y= target,\n",
    "                        data=df,\n",
    "                        ax=ax[0]).set_yscale(\"log\")\n",
    "            title = 'Scatter plot ' + col + ' v/s log(' + target + ') con ajuste lineal.'\n",
    "            ax[0].set_title(title, fontdict,y=1.05)\n",
    "        else:\n",
    "            sns.scatterplot(x = col,\n",
    "                            y=target,\n",
    "                            data=df,\n",
    "                            ax=ax[0]).set_yscale(\"log\")\n",
    "            title = 'Scatter plot ' + col + ' v/s log(' + target + ')'\n",
    "            ax[0].set_title(title, fontdict,y=1.05)\n",
    "    else:\n",
    "        if reg:\n",
    "            sns.regplot(x = col,\n",
    "                        y= target,\n",
    "                        data=df,\n",
    "                        ax=ax[0])\n",
    "            title = 'Scatter plot ' + col + ' v/s ' + target + ' con ajuste lineal.'\n",
    "            ax[0].set_title(title, fontdict,y=1.05)\n",
    "        else:\n",
    "            sns.scatterplot(x = col,\n",
    "                            y=target,\n",
    "                            data=df,\n",
    "                            ax=ax[0])\n",
    "            title = 'Scatter plot ' + col + ' v/s ' + target\n",
    "            ax[0].set_title(title, fontdict ,y=1.05)\n",
    "\n",
    "    sns.distplot(df[col], ax=ax[1])\n",
    "\n",
    "    ax[0].set_xlabel(col, fontdict)\n",
    "    ax[1].set_xlabel(col, fontdict)\n",
    "\n",
    "    ax[0].set_ylabel(target, fontdict)\n",
    "    \n",
    "    title_y = \"Frecuencias \" + col\n",
    "    ax[1].set_title(title_y, fontdict,y=1.05)\n",
    "    \n",
    "\n",
    "    h, w = (.6, .1)\n",
    "    plt.subplots_adjust(wspace=w, hspace=h)"
   ]
  },
  {
   "cell_type": "markdown",
   "metadata": {},
   "source": [
    "Antes de continuar con el analisis de las variables numericas, es importante ver como cambia la distribucion de tres de estas desde que se fijo un limite superio y uno inferior para `price_per_m2`:"
   ]
  },
  {
   "cell_type": "code",
   "execution_count": null,
   "metadata": {
    "scrolled": true
   },
   "outputs": [],
   "source": [
    "fig, ax = plt.subplots(nrows=1, ncols=3, figsize=[17, 4])\n",
    "\n",
    "fig.tight_layout()\n",
    "    \n",
    "#Ponemos el titulo:\n",
    "fig.suptitle('Titulo',\n",
    "         fontsize=20,\n",
    "         x=0.5,\n",
    "         y=1.05)\n",
    "vars_a_graficar = ['price','surface','price_per_m2']\n",
    "#Se recorre cada axis, para cada columna del dataframe, se genera un grafico \n",
    "#distinto en funcion del tipo de dato.\n",
    "for axis, col in zip(ax.flatten(), vars_a_graficar):\n",
    "    try :\n",
    "        # Graficos para datos numericos\n",
    "        sns.distplot(new_data[(col)], ax=axis, rug=True)\n",
    "\n",
    "    except RuntimeError:\n",
    "        sns.distplot(new_data[(col)], ax=axis, rug=True, kde=False)\n",
    "\n",
    "    axis.set_xlabel(col, fontsize=15)\n",
    "\n",
    "# Se ajusta el espaciado interno entre subplots\n",
    "w, h = (.4, .4)\n",
    "plt.subplots_adjust(wspace=w, hspace=h)\n"
   ]
  },
  {
   "cell_type": "markdown",
   "metadata": {},
   "source": [
    "Observemos que al fijar un rango para `price_per_m2` y eliminar los datos que sobrepasan este rango, cambia notoriamente la distribucion de `price` y de `surface`. \n",
    "\n",
    "A continuacion se muestan los _scatterPlot_ de algunas variables de interes v/s el precio por metro cuadrado. Se observan las variables `metrocuadrado_index`, `indice_envegecimiento`, `UPZ_area`, `UTZ_density` y `jefe_mujer_perc` ya que se observa que son variables poco concentradas. Adicionalmente, se graficara `surface` v/s la variable _target_ para verificar la dependencia de estas:"
   ]
  },
  {
   "cell_type": "code",
   "execution_count": null,
   "metadata": {
    "scrolled": false
   },
   "outputs": [],
   "source": [
    "var_de_interes = ['metrocuadrado_index', 'indice_envegecimiento', 'UPZ_area', 'UTZ_density', 'jefe_mujer_perc', 'surface']\n",
    "for var in var_de_interes:\n",
    "    plot_scatter('price_per_m2', var, df = new_data)"
   ]
  },
  {
   "cell_type": "markdown",
   "metadata": {},
   "source": [
    "De esta forma, se observa una clara relacion lineal entre `metrocuadrado_index` y `price_per_m2`. Lo mismo con la variable `jefe_mujer_perc` e `indice_envegecimiento`. Estas tres seran de interes mas adelante. \n",
    "\n",
    "Se observa ademas la dependencia entre `surface` y `price_per_m2`. Esto debido a que `price_per_m2` se construye a partir de la anterior."
   ]
  },
  {
   "cell_type": "markdown",
   "metadata": {},
   "source": [
    "Como se menciono anteriormente, hay un grupo de variables que no se estudio. Estas corresponden a `details`, `url`, `UPZ`, `location`. A continuacion se realizara un estudio breve de `UPZ` y `location`. Para esto, se codificaran las distintas etiquetas como numeros para que sea mas facil realizar graficos:"
   ]
  },
  {
   "cell_type": "code",
   "execution_count": null,
   "metadata": {},
   "outputs": [],
   "source": [
    "new_data['UPZ'].astype('str')\n",
    "new_data.UPZ.head()\n",
    "holo = [x for x in new_data.UPZ]\n",
    "holo[1:5]"
   ]
  },
  {
   "cell_type": "markdown",
   "metadata": {},
   "source": [
    "#### Perfilamiento Bivariado:\n",
    "Para comenzar el perfilamiento bivariado se emplean visualizaciones a pares. De esta forma podemos observar las relaciones entre las distintas variables. "
   ]
  },
  {
   "cell_type": "code",
   "execution_count": null,
   "metadata": {},
   "outputs": [],
   "source": [
    "categorical"
   ]
  },
  {
   "cell_type": "code",
   "execution_count": null,
   "metadata": {},
   "outputs": [],
   "source": [
    "interes = ['price_per_m2', 'metrocuadrado_index', 'indice_envegecimiento', 'UPZ_area', 'UTZ_density', \n",
    "           'jefe_mujer_perc', 'clasif_prod_type']"
   ]
  },
  {
   "cell_type": "code",
   "execution_count": null,
   "metadata": {
    "scrolled": false
   },
   "outputs": [],
   "source": [
    "sns.pairplot(data = new_data[interes], diag_kind='kde')"
   ]
  },
  {
   "cell_type": "markdown",
   "metadata": {},
   "source": [
    "La primera columna nos muestra la relacion entre `price_per_m2` y las demas variables de interes. Al igual que antes, es dificil extraer informacion valiosa de relaciones entre variables a simple vista de los graficos. Para comprobar que esto no sea debido a los `price_per_m2` que escapaban los 100000, se realizara el mismo grafico con `new_data`:"
   ]
  },
  {
   "cell_type": "code",
   "execution_count": null,
   "metadata": {},
   "outputs": [],
   "source": []
  },
  {
   "cell_type": "markdown",
   "metadata": {},
   "source": [
    "Como en el caso del perfilamiento univariado de las variables numericas, trabajar con los datos correspondientes a `price_per_m2` menores a 100000 entrega informacion sobre las relaciones de las variables: En primer lugar, se vuelve a observar el comportamiento `price_per_m2` v/s `metrocuadrado_index`. Luego se observa que la variable `clasif_prod_type` se comporta de forma similar v/s todas las variables de interes. \n"
   ]
  },
  {
   "cell_type": "code",
   "execution_count": null,
   "metadata": {},
   "outputs": [],
   "source": []
  },
  {
   "cell_type": "markdown",
   "metadata": {},
   "source": [
    "Para entender como se relacionan las variables entre ellas, es de utilidad el mapa de calor:"
   ]
  },
  {
   "cell_type": "code",
   "execution_count": null,
   "metadata": {
    "scrolled": true
   },
   "outputs": [],
   "source": [
    "sns.heatmap(data.corr(), linewidths=.01, cmap = 'RdBu_r')"
   ]
  },
  {
   "cell_type": "markdown",
   "metadata": {},
   "source": [
    "# Juegos para feature selection."
   ]
  },
  {
   "cell_type": "code",
   "execution_count": null,
   "metadata": {},
   "outputs": [],
   "source": [
    "from sklearn.feature_selection import SelectKBest\n",
    "from sklearn.model_selection import train_test_split\n",
    "from sklearn.feature_selection import f_regression\n",
    "from sklearn.preprocessing import LabelBinarizer\n",
    "from sklearn.preprocessing import StandardScaler\n",
    "from sklearn.feature_selection import f_classif, chi2\n",
    "from sklearn import metrics"
   ]
  },
  {
   "cell_type": "code",
   "execution_count": null,
   "metadata": {},
   "outputs": [],
   "source": [
    "#car es la cantidad de caracteristicas que queremos\n",
    "def selectFeatures(datos,etiquetas,car):\n",
    "    return SelectKBest(f_regression, k=car).fit_transform(datos,etiquetas)\n",
    "\n",
    "#Separamos en conjunto de entrenamiento, validacion y prueba\n",
    "def getConjuntos(datos,label,por):\n",
    "    return train_test_split(datos, label, test_size=por, random_state=42)"
   ]
  },
  {
   "cell_type": "code",
   "execution_count": null,
   "metadata": {},
   "outputs": [],
   "source": [
    "data_X_cols = [col for col in new_data.columns if col != 'price_per_m2']\n",
    "\n",
    "data_X = new_data.dropna()\n",
    "\n",
    "data_Y = data_X.price_per_m2\n",
    "\n",
    "data_col = [col for col in numeric if col != 'price_per_m2']\n",
    "data_X = data_X[data_col]\n",
    "\n",
    "#data_x = selectFeatures(data_X, data_Y, 3)"
   ]
  },
  {
   "cell_type": "code",
   "execution_count": null,
   "metadata": {},
   "outputs": [],
   "source": [
    "data_X"
   ]
  },
  {
   "cell_type": "code",
   "execution_count": null,
   "metadata": {},
   "outputs": [],
   "source": [
    "# Create and fit selector\n",
    "selector = SelectKBest(f_regression, k=5)\n",
    "selector.fit(data_X, data_Y)\n",
    "\n",
    "# Get columns to keep and create new dataframe with those only\n",
    "cols = selector.get_support(indices=True)\n",
    "features_df_new = data_X.iloc[:,cols]\n"
   ]
  },
  {
   "cell_type": "code",
   "execution_count": null,
   "metadata": {},
   "outputs": [],
   "source": [
    "features_df_new"
   ]
  },
  {
   "cell_type": "markdown",
   "metadata": {},
   "source": [
    "Codifiquemos las variables location y upz:"
   ]
  },
  {
   "cell_type": "code",
   "execution_count": null,
   "metadata": {},
   "outputs": [],
   "source": []
  },
  {
   "cell_type": "code",
   "execution_count": null,
   "metadata": {},
   "outputs": [],
   "source": []
  },
  {
   "cell_type": "code",
   "execution_count": null,
   "metadata": {},
   "outputs": [],
   "source": [
    "from sklearn.cluster import KMeans\n"
   ]
  },
  {
   "cell_type": "code",
   "execution_count": null,
   "metadata": {},
   "outputs": [],
   "source": []
  }
 ],
 "metadata": {
  "kernelspec": {
   "display_name": "Python 3",
   "language": "python",
   "name": "python3"
  },
  "language_info": {
   "codemirror_mode": {
    "name": "ipython",
    "version": 3
   },
   "file_extension": ".py",
   "mimetype": "text/x-python",
   "name": "python",
   "nbconvert_exporter": "python",
   "pygments_lexer": "ipython3",
   "version": "3.7.3"
  },
  "toc": {
   "base_numbering": 1,
   "nav_menu": {},
   "number_sections": true,
   "sideBar": true,
   "skip_h1_title": false,
   "title_cell": "Table of Contents",
   "title_sidebar": "Contents",
   "toc_cell": false,
   "toc_position": {},
   "toc_section_display": true,
   "toc_window_display": false
  }
 },
 "nbformat": 4,
 "nbformat_minor": 4
}
